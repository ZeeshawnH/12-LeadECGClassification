{
 "cells": [
  {
   "cell_type": "code",
   "execution_count": 1,
   "metadata": {},
   "outputs": [],
   "source": [
    "from autoencoder_pyt import *\n",
    "from utils import find_subfolders\n",
    "from data_loader import *\n",
    "from const import *"
   ]
  },
  {
   "cell_type": "code",
   "execution_count": null,
   "metadata": {},
   "outputs": [],
   "source": [
    "# Choose directory for data here\n",
    "root_directory = r\"/Volumes/T7/College/GuoResearch/Transformer/data/physionet.org/files/challenge-2021/1.0.3/training\"\n",
    "dataset_paths = find_subfolders(root_directory)\n",
    "print(dataset_paths)\n",
    "\n",
    "# Set parameters for data loading\n",
    "cycle_num = 1\n",
    "overlap = 0\n",
    "diagnosis_list = diagnosis_chosen_2  # diagnosis_lead_1, diagnosis_chosen_x\n",
    "diagnosis_list_name = \"chosen_2\"\n",
    "\n",
    "\n",
    "paths = dataset_paths\n",
    "\n",
    "#\n",
    "# Subset one path, normally would be using all paths\n",
    "#\n",
    "# paths = paths[6:7]\n",
    "# print(paths[0])"
   ]
  },
  {
   "cell_type": "code",
   "execution_count": null,
   "metadata": {},
   "outputs": [],
   "source": [
    "# Load data\n",
    "data_abnormal, loaded_paths_abnormal = load_data(paths, diagnosis_list, data_type=\"abnormal\", max_circle=None, cycle_num=cycle_num, overlap=overlap)\n",
    "print(\"Data loaded. Datasets loaded: \", loaded_paths_abnormal)\n",
    "print(f\"Number of abnormal cycles: {len(data_abnormal)}\")"
   ]
  },
  {
   "cell_type": "code",
   "execution_count": null,
   "metadata": {},
   "outputs": [],
   "source": [
    "print(len(data_abnormal))"
   ]
  },
  {
   "cell_type": "code",
   "execution_count": 5,
   "metadata": {},
   "outputs": [],
   "source": [
    "padded_data, labels = prep_data(data_abnormal)"
   ]
  },
  {
   "cell_type": "code",
   "execution_count": null,
   "metadata": {},
   "outputs": [],
   "source": [
    "print(f\"Tensor for first ECG record:\\n{padded_data[0]}\")"
   ]
  },
  {
   "cell_type": "code",
   "execution_count": null,
   "metadata": {},
   "outputs": [],
   "source": [
    "data_normal = load_data(paths, diagnosis_list, data_type=\"normal\", max_circle=None, cycle_num=cycle_num, overlap=overlap)"
   ]
  }
 ],
 "metadata": {
  "kernelspec": {
   "display_name": "venv",
   "language": "python",
   "name": "python3"
  },
  "language_info": {
   "codemirror_mode": {
    "name": "ipython",
    "version": 3
   },
   "file_extension": ".py",
   "mimetype": "text/x-python",
   "name": "python",
   "nbconvert_exporter": "python",
   "pygments_lexer": "ipython3",
   "version": "3.12.6"
  }
 },
 "nbformat": 4,
 "nbformat_minor": 2
}
